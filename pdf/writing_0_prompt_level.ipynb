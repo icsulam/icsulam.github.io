{
 "cells": [
  {
   "cell_type": "markdown",
   "metadata": {},
   "source": [
    "# Data Cleaning: Prompt-Level"
   ]
  },
  {
   "cell_type": "markdown",
   "metadata": {},
   "source": [
    "##What this bit-o-code does:\n",
    "Take .json prompt data scrapped from reddit via perl, clean out the absurd data errors, and output a usable .csv for analysis.\n",
    "\n",
    "Note: this file is a Python version (translation?) of the data cleaning process originally implemented in R. The R version of this file can be found here."
   ]
  },
  {
   "cell_type": "code",
   "execution_count": 2,
   "metadata": {
    "collapsed": true
   },
   "outputs": [],
   "source": [
    "import numpy as np\n",
    "import matplotlib.pyplot as plt\n",
    "import pandas as pd\n",
    "import nltk\n",
    "import re\n",
    "import os\n",
    "import codecs\n",
    "import os.path\n",
    "import seaborn as sns\n",
    "from sklearn import feature_extraction\n",
    "import statsmodels.formula.api as smf  #because ols\n",
    "import statsmodels.api as sm"
   ]
  },
  {
   "cell_type": "code",
   "execution_count": 3,
   "metadata": {
    "collapsed": false
   },
   "outputs": [
    {
     "name": "stdout",
     "output_type": "stream",
     "text": [
      "Populating the interactive namespace from numpy and matplotlib\n"
     ]
    }
   ],
   "source": [
    "%pylab inline\n",
    "pd.options.mode.chained_assignment = None  # default='warn'\n",
    "                                           # because recodes"
   ]
  },
  {
   "cell_type": "code",
   "execution_count": 4,
   "metadata": {
    "collapsed": false
   },
   "outputs": [
    {
     "data": {
      "text/plain": [
       "'/home/marvin/Desktop/Insight/WritingPrompts/allPrompt_pd.csv'"
      ]
     },
     "execution_count": 4,
     "metadata": {},
     "output_type": "execute_result"
    }
   ],
   "source": [
    "# Where is my data?\n",
    "# NOTE: _pd indicates the python version of these files\n",
    "dir_project       = '/home/marvin/Desktop/Insight/WritingPrompts/'\n",
    "dir_in_prompt     = dir_project + 'PromptCSV/'\n",
    "dir_in_story      = dir_project + 'ResponseCSV/'\n",
    "data_prompt_main  = dir_project + 'allPrompt_pd.csv'\n",
    "data_prompt_clean = dir_project + 'allPrompt_edited_pd.csv'\n",
    "\n",
    "data_prompt_main"
   ]
  },
  {
   "cell_type": "markdown",
   "metadata": {},
   "source": [
    "## Import Loop!\n",
    "Prompts were first pulled by unix timestamp ranges, with a second iteration for NSFW material. This resulted in approximately 2300 prompt-level files.\n",
    "\n",
    "To combine:\n",
    "loop over these files to combine them into a single large dataset for analysis. Because this is time consuming, save output to a file. If re-running, check if this file exists to save some time."
   ]
  },
  {
   "cell_type": "code",
   "execution_count": 16,
   "metadata": {
    "collapsed": false
   },
   "outputs": [
    {
     "name": "stdout",
     "output_type": "stream",
     "text": [
      "# of prompt files found: 2277\n"
     ]
    },
    {
     "data": {
      "text/plain": [
       "(130274, 48)"
      ]
     },
     "execution_count": 16,
     "metadata": {},
     "output_type": "execute_result"
    }
   ],
   "source": [
    "#list my files\n",
    "list_myFiles = [ f for f in os.listdir(dir_in_prompt) if os.path.isfile(os.path.join(dir_in_prompt,f)) ]\n",
    "print(\"# of prompt files found: \" + str(len(list_myFiles)))\n",
    "\n",
    "\n",
    "# Import loop!\n",
    "forceImport = 1 #set to 0 to force a re-import\n",
    "if((forceImport == 0) or not(os.path.isfile(data_prompt_main)) ):\n",
    "    print \"... running prompt import loop\"\n",
    "    \n",
    "    thisPath = dir_in_prompt + list_myFiles[0]\n",
    "    prompt1  = pd.read_csv(thisPath)\n",
    "    for i in range(1, len(list_myFiles) ): #len(list_myFiles)\n",
    "        thisPath = dir_in_prompt + list_myFilesgenre[i]\n",
    "        prompt1  = prompt1.append(pd.read_csv(thisPath))\n",
    "    \n",
    "    prompt1.to_csv(data_prompt_main)\n",
    "\n",
    "# Import the combined csv file\n",
    "allPrompt = pd.read_csv(data_prompt_main)\n",
    "allPrompt.shape"
   ]
  },
  {
   "cell_type": "code",
   "execution_count": 17,
   "metadata": {
    "collapsed": false
   },
   "outputs": [
    {
     "data": {
      "text/plain": [
       "Unnamed: 0                  int64\n",
       "domain                     object\n",
       "banned_by                  object\n",
       "media_embed                object\n",
       "subreddit                  object\n",
       "selftext_html              object\n",
       "selftext                   object\n",
       "likes                      object\n",
       "suggested_sort             object\n",
       "user_reports               object\n",
       "secure_media               object\n",
       "link_flair_text            object\n",
       "id                         object\n",
       "gilded                    float64\n",
       "archived                   object\n",
       "clicked                    object\n",
       "report_reasons             object\n",
       "author                     object\n",
       "media                      object\n",
       "score                     float64\n",
       "approved_by                object\n",
       "over_18                    object\n",
       "hidden                     object\n",
       "thumbnail                  object\n",
       "subreddit_id               object\n",
       "edited                     object\n",
       "link_flair_css_class       object\n",
       "author_flair_css_class     object\n",
       "downs                     float64\n",
       "mod_reports                object\n",
       "secure_media_embed         object\n",
       "saved                      object\n",
       "removal_reason             object\n",
       "is_self                    object\n",
       "name                       object\n",
       "permalink                  object\n",
       "stickied                   object\n",
       "created                   float64\n",
       "url                        object\n",
       "author_flair_text          object\n",
       "title                      object\n",
       "created_utc               float64\n",
       "ups                       float64\n",
       "num_comments              float64\n",
       "visited                    object\n",
       "num_reports                object\n",
       " distinguished            float64\n",
       "nsfw                      float64\n",
       "dtype: object"
      ]
     },
     "execution_count": 17,
     "metadata": {},
     "output_type": "execute_result"
    }
   ],
   "source": [
    "allPrompt.dtypes"
   ]
  },
  {
   "cell_type": "markdown",
   "metadata": {
    "collapsed": true
   },
   "source": [
    "## Clean some variables\n",
    "Clean out strings, and create prompt-level features in the process"
   ]
  },
  {
   "cell_type": "code",
   "execution_count": 18,
   "metadata": {
    "collapsed": false
   },
   "outputs": [
    {
     "data": {
      "text/plain": [
       "genre\n",
       "Constrained Writing         3358\n",
       "Constructive Criticism       713\n",
       "Contest!                      24\n",
       "Continuing Story             238\n",
       "Established Universe        8992\n",
       "Flash Fiction               1396\n",
       "Historical Prompt            109\n",
       "Image Prompt                3783\n",
       "Media Prompt                1109\n",
       "Moderator Post               349\n",
       "Music Prompt                 216\n",
       "NSFW                           3\n",
       "Off Topic                   1688\n",
       "Poetry                        10\n",
       "Prompt Inspired             1655\n",
       "Prompt Me                   1230\n",
       "Reality Fiction              692\n",
       "Rewriting                     56\n",
       "Workshop                      28\n",
       "Writing Prom\u0001pt                2\n",
       "Writing Prompt            104220\n",
       "null                         403\n",
       "dtype: int64"
      ]
     },
     "execution_count": 18,
     "metadata": {},
     "output_type": "execute_result"
    }
   ],
   "source": [
    "# 'Genre' identifier is the link_flair_text,\n",
    "# variable needs a bit of cleaning first, though\n",
    "allPrompt['genre'] = allPrompt['link_flair_text']\n",
    "allPrompt['genre'] = allPrompt['genre'].map(str.strip)\n",
    "\n",
    "recoder = {\n",
    "    'Established Universe?' : 'Established Universe',\n",
    "    'Constrained Writing/Media Prompt' : 'Constrained Writing',\n",
    "    'NSFW?' : 'NSFW',\n",
    "    'Writing prompt' : 'Writing Prom\u0001pt',\n",
    "    'Writing Prompt - DID NOT ACTUALLY HAPPEN' : 'Writing Prompt',\n",
    "    'Writing Prompt - Not Actual News' : 'Writing Prompt',\n",
    "    'Writing Prompt NOT /R/ASKREDDIT' : 'Writing Prompt',\n",
    "    'Writing Prompt SHUT UP ABOUT THE WIRE' : 'Writing Prompt',\n",
    "    'Writing Prompt [WP]' : 'Writing Prompt',\n",
    "    'Flash Fiction CONTEST!' : 'Flash Fiction',\n",
    "    'ALL THE PROMPTS' : 'Writing Prompt',\n",
    "    'Poetry Prompt' : 'Poetry'}\n",
    "\n",
    "allPrompt['genre'].replace(recoder, inplace=True)\n",
    "allPrompt.groupby('genre').size()\n"
   ]
  },
  {
   "cell_type": "markdown",
   "metadata": {},
   "source": [
    "Reddit has a flag for whether (and when)\n",
    "the prompt was later edited\n",
    "\n",
    "  want: \n",
    "   - editRec:  a dummy for whether the prompt was edited\n",
    "   - editTime: how long (UNIX time) until the prompt was edited"
   ]
  },
  {
   "cell_type": "code",
   "execution_count": 19,
   "metadata": {
    "collapsed": false
   },
   "outputs": [
    {
     "name": "stdout",
     "output_type": "stream",
     "text": [
      "editRec\n",
      "0    125313\n",
      "1      4961\n",
      "dtype: int64\n"
     ]
    }
   ],
   "source": [
    "# editRec: dummy for whether edited\n",
    "recoder = { ' false' : 0}\n",
    "allPrompt['editRec'] = allPrompt['edited']\n",
    "allPrompt['editRec'].replace(recoder, inplace=True)\n",
    "editRec = allPrompt['editRec']\n",
    "editRec[editRec > 1] = 1\n",
    "allPrompt['editRec'] = editRec\n",
    "print(allPrompt.groupby('editRec').size())\n",
    "\n",
    "# editNum: temp variable\n",
    "allPrompt['editNum'] = allPrompt['edited']\n",
    "allPrompt['editNum'] = allPrompt['editNum'].map(str.strip)\n",
    "recoder = { 'false' : 0}\n",
    "allPrompt['editNum'].replace(recoder, inplace=True)\n",
    "\n",
    "# editTime: if prompt was edited, how long after posting?\n",
    "#  set to 0 if prompt was never edited\n",
    "#         truncate any edits that take longer than 1 day\n",
    "#          (covers less than .5% of the data)\n",
    "allPrompt['created']  = allPrompt['created_utc'] * allPrompt['editRec']\n",
    "allPrompt[['editNum', 'created']] = allPrompt[['editNum', 'created']].astype(float)\n",
    "allPrompt['editTime'] = allPrompt['editNum'] - allPrompt['created']\n",
    "editTime = allPrompt['editTime']\n",
    "editTime[editTime > 86400] = 0 \n",
    "allPrompt['editTime'] = editTime"
   ]
  },
  {
   "cell_type": "code",
   "execution_count": 20,
   "metadata": {
    "collapsed": false
   },
   "outputs": [
    {
     "name": "stdout",
     "output_type": "stream",
     "text": [
      "isAmod\n",
      "0    128619\n",
      "1      1655\n",
      "dtype: int64\n"
     ]
    }
   ],
   "source": [
    "# isAmod: is the author of the prompt a mod for the subreddit?\n",
    "#         \n",
    "recoder = { \n",
    "          ' MOD' : 1,\n",
    "          ' null' : 0,\n",
    "          ' ' : 0\n",
    "}\n",
    "allPrompt['isAmod'] = allPrompt['author_flair_css_class']\n",
    "allPrompt['isAmod'].replace(recoder, inplace=True)\n",
    "print(allPrompt.groupby('isAmod').size())"
   ]
  },
  {
   "cell_type": "code",
   "execution_count": 21,
   "metadata": {
    "collapsed": false
   },
   "outputs": [
    {
     "data": {
      "text/plain": [
       "selftext              object\n",
       "id                    object\n",
       "gilded               float64\n",
       "archived              object\n",
       "author                object\n",
       "score                float64\n",
       "over_18               object\n",
       "edited                object\n",
       "is_self               object\n",
       "name                  object\n",
       "url                   object\n",
       "author_flair_text     object\n",
       "title                 object\n",
       "created_utc          float64\n",
       "ups                  float64\n",
       "num_comments         float64\n",
       "genre                 object\n",
       "editRec               object\n",
       "editTime             float64\n",
       "isAmod                 int64\n",
       "distinguished        float64\n",
       "dtype: object"
      ]
     },
     "execution_count": 21,
     "metadata": {},
     "output_type": "execute_result"
    }
   ],
   "source": [
    "# remove some columns'Unnamed: 0'\n",
    "#  these columns either (1) don't vary in the data or\n",
    "#                       (2) were recoded into a more usable format\n",
    "#                       (3) or renamed to eliminate leading whitespace\n",
    "allPrompt['distinguished'] = allPrompt[' distinguished']\n",
    "allPrompt = allPrompt.drop(['Unnamed: 0',\n",
    "                            'domain', 'banned_by', 'media_embed', 'subreddit',\n",
    "                            'selftext_html', 'likes', 'suggested_sort',\n",
    "                            'user_reports', 'secure_media', 'link_flair_text',\n",
    "                            'clicked', 'report_reasons', 'media', 'approved_by',\n",
    "                            'hidden', 'thumbnail', 'subreddit_id', 'editNum',\n",
    "                            'link_flair_css_class', 'author_flair_css_class',\n",
    "                            'downs', 'mod_reports', 'secure_media_embed', \n",
    "                            'saved', 'removal_reason', 'stickied', 'created',\n",
    "                            'permalink', 'visited', 'num_reports', 'nsfw',\n",
    "                            ' distinguished'],axis=1)\n",
    "allPrompt.dtypes"
   ]
  },
  {
   "cell_type": "code",
   "execution_count": 22,
   "metadata": {
    "collapsed": false
   },
   "outputs": [
    {
     "name": "stdout",
     "output_type": "stream",
     "text": [
      "wDay\n",
      "0    19119\n",
      "1    19832\n",
      "2    19870\n",
      "3    19641\n",
      "4    18525\n",
      "5    15936\n",
      "6    17351\n",
      "dtype: int64\n"
     ]
    }
   ],
   "source": [
    "# dealing with dates\n",
    "#   everyone's least-favorite fruit / variable type\n",
    "\n",
    "allPrompt['year']  = pd.to_datetime(allPrompt.created_utc, unit='s').dt.year\n",
    "allPrompt['month'] = pd.to_datetime(allPrompt.created_utc, unit='s').dt.month\n",
    "allPrompt['day']   = pd.to_datetime(allPrompt.created_utc, unit='s').dt.day\n",
    "allPrompt['wDay']  = pd.to_datetime(allPrompt.created_utc, unit='s').dt.dayofweek\n",
    "print(allPrompt.groupby('wDay').size()) # fewest prompts on saturday (fri/sun also lower)\n",
    "\n",
    "# num_comments field has two observations with -1 recode to 0\n",
    "recoder = { -1 : 0}\n",
    "allPrompt['num_comments'].replace(recoder, inplace=True)\n",
    "allPrompt['prompt_length'] = allPrompt['title'].str.len()\n",
    "allPrompt['all_length']    = allPrompt['prompt_length'] + allPrompt['selftext'].str.len()"
   ]
  },
  {
   "cell_type": "code",
   "execution_count": 23,
   "metadata": {
    "collapsed": true
   },
   "outputs": [],
   "source": [
    "# id variable has whitespace, remove it\n",
    "allPrompt['id'] = allPrompt['id'].map(str.strip)"
   ]
  },
  {
   "cell_type": "markdown",
   "metadata": {},
   "source": [
    "##Prepare to merge to comment-level\n",
    "Since some variable names are used for both the prompt and comment-levels, rename the prompt level variables by prepending 'p_'."
   ]
  },
  {
   "cell_type": "code",
   "execution_count": 25,
   "metadata": {
    "collapsed": false
   },
   "outputs": [],
   "source": [
    "new_columns = allPrompt.columns.values\n",
    "new_columns = 'p_' + new_columns\n",
    "\n",
    "allPrompt.columns = new_columns"
   ]
  },
  {
   "cell_type": "code",
   "execution_count": 26,
   "metadata": {
    "collapsed": false
   },
   "outputs": [
    {
     "data": {
      "text/plain": [
       "array(['p_selftext', 'p_id', 'p_gilded', 'p_archived', 'p_author',\n",
       "       'p_score', 'p_over_18', 'p_edited', 'p_is_self', 'p_name', 'p_url',\n",
       "       'p_author_flair_text', 'p_title', 'p_created_utc', 'p_ups',\n",
       "       'p_num_comments', 'p_genre', 'p_editRec', 'p_editTime', 'p_isAmod',\n",
       "       'p_distinguished', 'p_year', 'p_month', 'p_day', 'p_wDay',\n",
       "       'p_prompt_length', 'p_all_length'], dtype=object)"
      ]
     },
     "execution_count": 26,
     "metadata": {},
     "output_type": "execute_result"
    }
   ],
   "source": [
    "allPrompt.columns.values"
   ]
  },
  {
   "cell_type": "markdown",
   "metadata": {},
   "source": [
    "##Write cleaned prompt-level data to data_prompt_clean"
   ]
  },
  {
   "cell_type": "code",
   "execution_count": 27,
   "metadata": {
    "collapsed": true
   },
   "outputs": [],
   "source": [
    "allPrompt.to_csv(data_prompt_clean)"
   ]
  }
 ],
 "metadata": {
  "kernelspec": {
   "display_name": "Python 2",
   "language": "python",
   "name": "python2"
  },
  "language_info": {
   "codemirror_mode": {
    "name": "ipython",
    "version": 2
   },
   "file_extension": ".py",
   "mimetype": "text/x-python",
   "name": "python",
   "nbconvert_exporter": "python",
   "pygments_lexer": "ipython2",
   "version": "2.7.9"
  }
 },
 "nbformat": 4,
 "nbformat_minor": 0
}
